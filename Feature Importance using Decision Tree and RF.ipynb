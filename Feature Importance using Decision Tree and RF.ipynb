{
 "cells": [
  {
   "cell_type": "code",
   "execution_count": 1,
   "id": "afed28b4",
   "metadata": {},
   "outputs": [],
   "source": [
    "import pandas as pd \n",
    "import numpy as np \n",
    "import matplotlib.pyplot as plt \n",
    "import seaborn as sns\n",
    "\n",
    "from sklearn.ensemble import RandomForestClassifier\n",
    "import warnings\n",
    "warnings.filterwarnings('ignore')"
   ]
  },
  {
   "cell_type": "code",
   "execution_count": 2,
   "id": "a21d5070",
   "metadata": {},
   "outputs": [
    {
     "data": {
      "text/html": [
       "<div>\n",
       "<style scoped>\n",
       "    .dataframe tbody tr th:only-of-type {\n",
       "        vertical-align: middle;\n",
       "    }\n",
       "\n",
       "    .dataframe tbody tr th {\n",
       "        vertical-align: top;\n",
       "    }\n",
       "\n",
       "    .dataframe thead th {\n",
       "        text-align: right;\n",
       "    }\n",
       "</style>\n",
       "<table border=\"1\" class=\"dataframe\">\n",
       "  <thead>\n",
       "    <tr style=\"text-align: right;\">\n",
       "      <th></th>\n",
       "      <th>label</th>\n",
       "      <th>pixel0</th>\n",
       "      <th>pixel1</th>\n",
       "      <th>pixel2</th>\n",
       "      <th>pixel3</th>\n",
       "      <th>pixel4</th>\n",
       "      <th>pixel5</th>\n",
       "      <th>pixel6</th>\n",
       "      <th>pixel7</th>\n",
       "      <th>pixel8</th>\n",
       "      <th>...</th>\n",
       "      <th>pixel774</th>\n",
       "      <th>pixel775</th>\n",
       "      <th>pixel776</th>\n",
       "      <th>pixel777</th>\n",
       "      <th>pixel778</th>\n",
       "      <th>pixel779</th>\n",
       "      <th>pixel780</th>\n",
       "      <th>pixel781</th>\n",
       "      <th>pixel782</th>\n",
       "      <th>pixel783</th>\n",
       "    </tr>\n",
       "  </thead>\n",
       "  <tbody>\n",
       "    <tr>\n",
       "      <th>0</th>\n",
       "      <td>1</td>\n",
       "      <td>0</td>\n",
       "      <td>0</td>\n",
       "      <td>0</td>\n",
       "      <td>0</td>\n",
       "      <td>0</td>\n",
       "      <td>0</td>\n",
       "      <td>0</td>\n",
       "      <td>0</td>\n",
       "      <td>0</td>\n",
       "      <td>...</td>\n",
       "      <td>0</td>\n",
       "      <td>0</td>\n",
       "      <td>0</td>\n",
       "      <td>0</td>\n",
       "      <td>0</td>\n",
       "      <td>0</td>\n",
       "      <td>0</td>\n",
       "      <td>0</td>\n",
       "      <td>0</td>\n",
       "      <td>0</td>\n",
       "    </tr>\n",
       "    <tr>\n",
       "      <th>1</th>\n",
       "      <td>0</td>\n",
       "      <td>0</td>\n",
       "      <td>0</td>\n",
       "      <td>0</td>\n",
       "      <td>0</td>\n",
       "      <td>0</td>\n",
       "      <td>0</td>\n",
       "      <td>0</td>\n",
       "      <td>0</td>\n",
       "      <td>0</td>\n",
       "      <td>...</td>\n",
       "      <td>0</td>\n",
       "      <td>0</td>\n",
       "      <td>0</td>\n",
       "      <td>0</td>\n",
       "      <td>0</td>\n",
       "      <td>0</td>\n",
       "      <td>0</td>\n",
       "      <td>0</td>\n",
       "      <td>0</td>\n",
       "      <td>0</td>\n",
       "    </tr>\n",
       "    <tr>\n",
       "      <th>2</th>\n",
       "      <td>1</td>\n",
       "      <td>0</td>\n",
       "      <td>0</td>\n",
       "      <td>0</td>\n",
       "      <td>0</td>\n",
       "      <td>0</td>\n",
       "      <td>0</td>\n",
       "      <td>0</td>\n",
       "      <td>0</td>\n",
       "      <td>0</td>\n",
       "      <td>...</td>\n",
       "      <td>0</td>\n",
       "      <td>0</td>\n",
       "      <td>0</td>\n",
       "      <td>0</td>\n",
       "      <td>0</td>\n",
       "      <td>0</td>\n",
       "      <td>0</td>\n",
       "      <td>0</td>\n",
       "      <td>0</td>\n",
       "      <td>0</td>\n",
       "    </tr>\n",
       "    <tr>\n",
       "      <th>3</th>\n",
       "      <td>4</td>\n",
       "      <td>0</td>\n",
       "      <td>0</td>\n",
       "      <td>0</td>\n",
       "      <td>0</td>\n",
       "      <td>0</td>\n",
       "      <td>0</td>\n",
       "      <td>0</td>\n",
       "      <td>0</td>\n",
       "      <td>0</td>\n",
       "      <td>...</td>\n",
       "      <td>0</td>\n",
       "      <td>0</td>\n",
       "      <td>0</td>\n",
       "      <td>0</td>\n",
       "      <td>0</td>\n",
       "      <td>0</td>\n",
       "      <td>0</td>\n",
       "      <td>0</td>\n",
       "      <td>0</td>\n",
       "      <td>0</td>\n",
       "    </tr>\n",
       "    <tr>\n",
       "      <th>4</th>\n",
       "      <td>0</td>\n",
       "      <td>0</td>\n",
       "      <td>0</td>\n",
       "      <td>0</td>\n",
       "      <td>0</td>\n",
       "      <td>0</td>\n",
       "      <td>0</td>\n",
       "      <td>0</td>\n",
       "      <td>0</td>\n",
       "      <td>0</td>\n",
       "      <td>...</td>\n",
       "      <td>0</td>\n",
       "      <td>0</td>\n",
       "      <td>0</td>\n",
       "      <td>0</td>\n",
       "      <td>0</td>\n",
       "      <td>0</td>\n",
       "      <td>0</td>\n",
       "      <td>0</td>\n",
       "      <td>0</td>\n",
       "      <td>0</td>\n",
       "    </tr>\n",
       "  </tbody>\n",
       "</table>\n",
       "<p>5 rows × 785 columns</p>\n",
       "</div>"
      ],
      "text/plain": [
       "   label  pixel0  pixel1  pixel2  pixel3  pixel4  pixel5  pixel6  pixel7  \\\n",
       "0      1       0       0       0       0       0       0       0       0   \n",
       "1      0       0       0       0       0       0       0       0       0   \n",
       "2      1       0       0       0       0       0       0       0       0   \n",
       "3      4       0       0       0       0       0       0       0       0   \n",
       "4      0       0       0       0       0       0       0       0       0   \n",
       "\n",
       "   pixel8  ...  pixel774  pixel775  pixel776  pixel777  pixel778  pixel779  \\\n",
       "0       0  ...         0         0         0         0         0         0   \n",
       "1       0  ...         0         0         0         0         0         0   \n",
       "2       0  ...         0         0         0         0         0         0   \n",
       "3       0  ...         0         0         0         0         0         0   \n",
       "4       0  ...         0         0         0         0         0         0   \n",
       "\n",
       "   pixel780  pixel781  pixel782  pixel783  \n",
       "0         0         0         0         0  \n",
       "1         0         0         0         0  \n",
       "2         0         0         0         0  \n",
       "3         0         0         0         0  \n",
       "4         0         0         0         0  \n",
       "\n",
       "[5 rows x 785 columns]"
      ]
     },
     "execution_count": 2,
     "metadata": {},
     "output_type": "execute_result"
    }
   ],
   "source": [
    "df=pd.read_csv(\"D:\\\\Sandesh\\\\Data Science\\\\Feature Selection\\\\train_digit_recognize.csv\")\n",
    "df.head()   "
   ]
  },
  {
   "cell_type": "code",
   "execution_count": 3,
   "id": "823e0009",
   "metadata": {},
   "outputs": [],
   "source": [
    "X=df.drop(columns=['label'],axis=1)\n",
    "y=df['label']"
   ]
  },
  {
   "cell_type": "code",
   "execution_count": 4,
   "id": "0c291c69",
   "metadata": {},
   "outputs": [
    {
     "data": {
      "text/plain": [
       "<AxesSubplot:>"
      ]
     },
     "execution_count": 4,
     "metadata": {},
     "output_type": "execute_result"
    },
    {
     "data": {
      "image/png": "[encoded data removed]",
      "text/plain": [
       "<Figure size 432x288 with 2 Axes>"
      ]
     },
     "metadata": {
      "needs_background": "light"
     },
     "output_type": "display_data"
    }
   ],
   "source": [
    "sns.heatmap(X.iloc[15].values.reshape(28,28))"
   ]
  },
  {
   "cell_type": "code",
   "execution_count": 5,
   "id": "66e8e723",
   "metadata": {},
   "outputs": [
    {
     "data": {
      "text/plain": [
       "RandomForestClassifier()"
      ]
     },
     "execution_count": 5,
     "metadata": {},
     "output_type": "execute_result"
    }
   ],
   "source": [
    "rf=RandomForestClassifier()\n",
    "rf.fit(X,y)"
   ]
  },
  {
   "cell_type": "code",
   "execution_count": 6,
   "id": "9285c9a2",
   "metadata": {},
   "outputs": [
    {
     "data": {
      "text/plain": [
       "array([0.00000000e+00, 0.00000000e+00, 0.00000000e+00, 0.00000000e+00,\n",
       "       0.00000000e+00, 0.00000000e+00, 0.00000000e+00, 0.00000000e+00,\n",
       "       0.00000000e+00, 0.00000000e+00, 0.00000000e+00, 0.00000000e+00,\n",
       "       0.00000000e+00, 0.00000000e+00, 0.00000000e+00, 1.01303449e-06,\n",
       "       0.00000000e+00, 0.00000000e+00, 0.00000000e+00, 0.00000000e+00,\n",
       "       0.00000000e+00, 0.00000000e+00, 0.00000000e+00, 0.00000000e+00,\n",
       "       0.00000000e+00, 0.00000000e+00, 0.00000000e+00, 0.00000000e+00,\n",
       "       0.00000000e+00, 0.00000000e+00, 0.00000000e+00, 0.00000000e+00,\n",
       "       0.00000000e+00, 0.00000000e+00, 1.04376841e-06, 1.03394469e-06,\n",
       "       1.07597552e-05, 2.68415186e-06, 8.80751721e-07, 4.95462452e-06,\n",
       "       2.86703855e-06, 9.87724627e-07, 5.08851157e-07, 4.08753956e-06,\n",
       "       1.44289949e-06, 1.94281509e-06, 0.00000000e+00, 2.04832469e-06,\n",
       "       3.52850409e-07, 0.00000000e+00, 1.52655954e-06, 3.65199902e-06,\n",
       "       0.00000000e+00, 0.00000000e+00, 0.00000000e+00, 0.00000000e+00,\n",
       "       0.00000000e+00, 0.00000000e+00, 0.00000000e+00, 0.00000000e+00,\n",
       "       0.00000000e+00, 0.00000000e+00, 4.76468125e-07, 3.54261427e-06,\n",
       "       2.32388692e-05, 1.31262812e-05, 9.36221220e-05, 9.90154152e-05,\n",
       "       8.26944231e-05, 1.95560696e-04, 3.41323451e-04, 1.20143099e-04,\n",
       "       1.85509530e-04, 8.77665240e-05, 4.55858123e-05, 4.63742843e-05,\n",
       "       5.91813324e-05, 9.85050229e-06, 2.26619857e-06, 1.02581106e-06,\n",
       "       0.00000000e+00, 0.00000000e+00, 0.00000000e+00, 0.00000000e+00,\n",
       "       0.00000000e+00, 0.00000000e+00, 0.00000000e+00, 2.64648421e-07,\n",
       "       2.64657639e-07, 5.88184767e-06, 6.11503241e-06, 4.58769056e-05,\n",
       "       4.16106651e-05, 1.33049964e-04, 1.87882848e-04, 4.19674055e-04,\n",
       "       8.46572953e-04, 1.03946019e-03, 1.94304914e-03, 2.15396829e-03,\n",
       "       3.11126645e-03, 1.73767316e-03, 1.26996069e-03, 6.63877771e-04,\n",
       "       2.13052264e-04, 9.61826781e-05, 6.04199964e-05, 2.11840096e-05,\n",
       "       8.32026620e-06, 3.59397705e-06, 0.00000000e+00, 0.00000000e+00,\n",
       "       0.00000000e+00, 0.00000000e+00, 0.00000000e+00, 8.66149892e-07,\n",
       "       3.17143466e-06, 9.11584447e-06, 2.98084742e-05, 8.08624995e-05,\n",
       "       1.66594358e-04, 4.34577542e-04, 8.13055632e-04, 8.73889551e-04,\n",
       "       1.72592456e-03, 1.91127859e-03, 1.93447068e-03, 2.58495574e-03,\n",
       "       1.76911807e-03, 1.09594465e-03, 8.44526562e-04, 5.98951549e-04,\n",
       "       4.02220557e-04, 2.13804634e-04, 1.31137267e-04, 7.49896560e-05,\n",
       "       3.33011163e-05, 1.65428766e-05, 0.00000000e+00, 0.00000000e+00,\n",
       "       0.00000000e+00, 0.00000000e+00, 0.00000000e+00, 2.40209930e-06,\n",
       "       1.40812243e-05, 4.17491374e-05, 8.42816587e-05, 2.51833654e-04,\n",
       "       6.68914435e-04, 9.50594349e-04, 1.79973697e-03, 3.03899113e-03,\n",
       "       3.50698133e-03, 4.74419728e-03, 6.20105230e-03, 4.56967022e-03,\n",
       "       4.54912133e-03, 3.98581459e-03, 2.27855084e-03, 1.27421156e-03,\n",
       "       9.27925490e-04, 7.06768696e-04, 4.31485399e-04, 3.76134093e-04,\n",
       "       1.13292603e-04, 2.35970533e-05, 2.64631218e-07, 0.00000000e+00,\n",
       "       0.00000000e+00, 0.00000000e+00, 0.00000000e+00, 4.71114160e-06,\n",
       "       3.00398972e-05, 9.78254661e-05, 2.65617679e-04, 5.01906797e-04,\n",
       "       9.89612419e-04, 2.08929449e-03, 3.72560308e-03, 2.95636096e-03,\n",
       "       2.33064734e-03, 2.65897007e-03, 4.78430300e-03, 3.72230763e-03,\n",
       "       4.21765982e-03, 2.85319825e-03, 2.02151674e-03, 1.81154108e-03,\n",
       "       1.15561527e-03, 1.58962352e-03, 1.29320932e-03, 9.90294110e-04,\n",
       "       4.07636926e-04, 5.49222988e-05, 9.05792878e-06, 0.00000000e+00,\n",
       "       0.00000000e+00, 5.23279984e-07, 2.34299530e-06, 2.32285696e-05,\n",
       "       6.10901454e-05, 1.84741970e-04, 3.60011537e-04, 4.57609626e-04,\n",
       "       9.79938003e-04, 1.29803049e-03, 2.40750050e-03, 2.32863087e-03,\n",
       "       2.55554393e-03, 3.85972325e-03, 4.99046842e-03, 6.97689265e-03,\n",
       "       5.21633413e-03, 2.48590668e-03, 2.38173179e-03, 2.36290646e-03,\n",
       "       1.71647266e-03, 1.15463265e-03, 1.28544301e-03, 1.23295869e-03,\n",
       "       8.26562002e-04, 1.17393446e-04, 1.24403921e-05, 3.35614686e-06,\n",
       "       2.43599963e-06, 2.64634989e-07, 3.52864561e-07, 3.18412519e-05,\n",
       "       7.63430706e-05, 1.94410353e-04, 4.49347921e-04, 7.30270847e-04,\n",
       "       1.03152454e-03, 2.15267625e-03, 2.60216960e-03, 3.72036900e-03,\n",
       "       3.33503277e-03, 3.85820856e-03, 5.09325619e-03, 4.97493350e-03,\n",
       "       4.28284804e-03, 3.21623400e-03, 2.96202394e-03, 3.04696998e-03,\n",
       "       2.17095475e-03, 1.13923507e-03, 1.06805257e-03, 1.06607780e-03,\n",
       "       9.00763216e-04, 1.37303136e-04, 1.52034366e-05, 5.18337611e-07,\n",
       "       0.00000000e+00, 4.47356284e-07, 4.11588615e-06, 3.96519031e-05,\n",
       "       1.13203414e-04, 2.32586624e-04, 5.40359893e-04, 9.37805261e-04,\n",
       "       2.49193534e-03, 1.66808754e-03, 5.66770870e-03, 4.39300389e-03,\n",
       "       3.38877673e-03, 3.11949879e-03, 4.76408035e-03, 3.86565833e-03,\n",
       "       3.28096114e-03, 4.44701846e-03, 3.49149776e-03, 3.61508599e-03,\n",
       "       1.81993951e-03, 1.81518750e-03, 9.66588714e-04, 6.64628166e-04,\n",
       "       3.40052915e-04, 1.20564972e-04, 2.00059732e-05, 9.17083142e-07,\n",
       "       0.00000000e+00, 0.00000000e+00, 3.32395190e-06, 4.18366456e-05,\n",
       "       1.19745121e-04, 1.95909184e-04, 5.00551172e-04, 7.71402293e-04,\n",
       "       1.66431281e-03, 3.42679828e-03, 7.02642932e-03, 4.54116175e-03,\n",
       "       3.32098766e-03, 3.31861004e-03, 2.95543995e-03, 4.18251316e-03,\n",
       "       3.36907927e-03, 3.71279186e-03, 4.43985417e-03, 3.85047421e-03,\n",
       "       2.50235124e-03, 1.54147330e-03, 1.01873666e-03, 3.32106148e-04,\n",
       "       1.81182704e-04, 6.90139809e-05, 8.02784482e-06, 2.90979445e-06,\n",
       "       0.00000000e+00, 0.00000000e+00, 9.20010497e-06, 2.78446322e-05,\n",
       "       9.89546852e-05, 2.97614872e-04, 6.35144510e-04, 1.34024305e-03,\n",
       "       2.46295017e-03, 3.70123460e-03, 5.99084064e-03, 5.35958718e-03,\n",
       "       3.39987570e-03, 3.33995020e-03, 4.48121641e-03, 3.70041711e-03,\n",
       "       3.42809577e-03, 2.79587803e-03, 3.05511791e-03, 3.15659839e-03,\n",
       "       2.09581989e-03, 2.28518810e-03, 8.85743591e-04, 6.36998690e-04,\n",
       "       9.46721100e-05, 4.14062701e-05, 8.40774399e-06, 0.00000000e+00,\n",
       "       0.00000000e+00, 0.00000000e+00, 8.42609717e-06, 2.17830787e-05,\n",
       "       6.97573241e-05, 2.90792709e-04, 6.34784514e-04, 1.41438184e-03,\n",
       "       2.90753970e-03, 5.29997254e-03, 6.34208831e-03, 5.57358079e-03,\n",
       "       4.67918052e-03, 4.22295243e-03, 9.36543420e-03, 4.70382727e-03,\n",
       "       3.79208467e-03, 3.46664023e-03, 3.87264014e-03, 2.17260238e-03,\n",
       "       1.70301538e-03, 1.81811035e-03, 3.30699273e-03, 1.16084579e-03,\n",
       "       1.25551093e-04, 2.56934668e-05, 8.20360966e-06, 1.47038023e-06,\n",
       "       0.00000000e+00, 0.00000000e+00, 1.03866954e-06, 1.78109921e-05,\n",
       "       1.02900261e-04, 3.46428262e-04, 8.99144583e-04, 2.54677979e-03,\n",
       "       4.65050238e-03, 4.73319806e-03, 5.68883179e-03, 5.59088166e-03,\n",
       "       4.57861412e-03, 6.81741793e-03, 8.96398941e-03, 4.45078391e-03,\n",
       "       4.14213360e-03, 8.17571399e-03, 4.09349743e-03, 1.43416504e-03,\n",
       "       1.05854522e-03, 2.09274818e-03, 2.24541260e-03, 8.55216539e-04,\n",
       "       1.50050827e-04, 3.10480380e-05, 6.63285747e-06, 0.00000000e+00,\n",
       "       0.00000000e+00, 4.56364206e-07, 0.00000000e+00, 1.60565079e-05,\n",
       "       9.12023961e-05, 4.72814175e-04, 1.06073835e-03, 1.76775523e-03,\n",
       "       3.85776613e-03, 3.77454844e-03, 5.00280517e-03, 4.89572345e-03,\n",
       "       3.56338668e-03, 8.32120161e-03, 7.30408950e-03, 4.03332116e-03,\n",
       "       4.26690721e-03, 5.72958247e-03, 2.33173328e-03, 1.30833954e-03,\n",
       "       1.48992900e-03, 1.57779247e-03, 2.90613172e-03, 4.10972639e-04,\n",
       "       1.83763352e-04, 3.29061222e-05, 6.60628810e-06, 0.00000000e+00,\n",
       "       0.00000000e+00, 0.00000000e+00, 1.03033834e-06, 1.52483200e-05,\n",
       "       6.60084894e-05, 5.27547977e-04, 1.21419663e-03, 2.08173018e-03,\n",
       "       5.33117563e-03, 3.98128168e-03, 4.31347110e-03, 4.93694232e-03,\n",
       "       3.50499961e-03, 7.70191149e-03, 5.67310783e-03, 5.87170412e-03,\n",
       "       4.24866657e-03, 4.18967926e-03, 3.58143618e-03, 1.99943912e-03,\n",
       "       1.49079262e-03, 1.57507006e-03, 1.15889613e-03, 5.12945712e-04,\n",
       "       1.30685064e-04, 4.55476798e-05, 1.99150012e-05, 2.20543818e-06,\n",
       "       0.00000000e+00, 0.00000000e+00, 8.57230232e-06, 2.32776577e-05,\n",
       "       1.22447660e-04, 5.72916120e-04, 9.67214732e-04, 2.83668106e-03,\n",
       "       4.26109758e-03, 3.37924528e-03, 5.34148585e-03, 4.93068909e-03,\n",
       "       6.72232632e-03, 7.37364950e-03, 4.70572865e-03, 4.07360138e-03,\n",
       "       2.42130518e-03, 3.71003029e-03, 2.49306214e-03, 1.97702003e-03,\n",
       "       1.22943178e-03, 9.15219918e-04, 6.19121973e-04, 3.29728413e-04,\n",
       "       1.44429241e-04, 5.38468141e-05, 2.18096949e-05, 4.57307813e-06,\n",
       "       0.00000000e+00, 0.00000000e+00, 6.61479754e-06, 5.02909150e-05,\n",
       "       1.18946212e-04, 5.16909289e-04, 1.34211302e-03, 3.39461139e-03,\n",
       "       3.45726758e-03, 3.94342472e-03, 4.39451367e-03, 5.78931739e-03,\n",
       "       5.19549766e-03, 5.00888097e-03, 4.25235224e-03, 3.37650856e-03,\n",
       "       2.18233262e-03, 4.13158695e-03, 1.90601425e-03, 1.65625319e-03,\n",
       "       1.56218511e-03, 9.77125763e-04, 5.39838863e-04, 3.34312569e-04,\n",
       "       2.04423574e-04, 6.92745899e-05, 9.67368212e-06, 2.36487720e-06,\n",
       "       0.00000000e+00, 0.00000000e+00, 6.49815445e-06, 9.07558168e-05,\n",
       "       1.52895203e-04, 6.14290644e-04, 1.03556492e-03, 2.27762697e-03,\n",
       "       3.14160654e-03, 4.23531521e-03, 5.87990257e-03, 5.14610235e-03,\n",
       "       4.06445801e-03, 6.10536906e-03, 2.70505640e-03, 1.86333270e-03,\n",
       "       1.33169768e-03, 2.11151009e-03, 2.38908064e-03, 2.21487247e-03,\n",
       "       1.27689886e-03, 6.91617139e-04, 6.19592143e-04, 3.98948848e-04,\n",
       "       2.05493189e-04, 6.66804633e-05, 6.62345520e-06, 1.01401167e-06,\n",
       "       0.00000000e+00, 0.00000000e+00, 7.77844388e-06, 6.79893076e-05,\n",
       "       2.44603356e-04, 7.28019178e-04, 1.19661663e-03, 3.49410443e-03,\n",
       "       3.73365841e-03, 4.68787017e-03, 6.71389708e-03, 5.81807161e-03,\n",
       "       2.99923928e-03, 2.25795659e-03, 1.92919670e-03, 1.40923846e-03,\n",
       "       1.16180558e-03, 1.84154752e-03, 3.24970230e-03, 2.37375558e-03,\n",
       "       1.67271690e-03, 7.97619187e-04, 8.05024450e-04, 3.65535552e-04,\n",
       "       2.17703172e-04, 2.30838762e-05, 8.67878917e-06, 5.21395424e-07,\n",
       "       0.00000000e+00, 2.64638579e-07, 1.21537080e-05, 6.76701018e-05,\n",
       "       3.46998272e-04, 5.42498019e-04, 1.35953022e-03, 2.53821806e-03,\n",
       "       4.30882353e-03, 4.56980490e-03, 5.39706738e-03, 3.55565625e-03,\n",
       "       2.93333303e-03, 2.19962485e-03, 1.94418768e-03, 1.30221862e-03,\n",
       "       1.83121704e-03, 1.52553092e-03, 2.40351461e-03, 2.09420274e-03,\n",
       "       1.25782245e-03, 7.88386206e-04, 5.47699494e-04, 3.47973434e-04,\n",
       "       1.54797926e-04, 3.07945145e-05, 3.06792794e-06, 0.00000000e+00,\n",
       "       0.00000000e+00, 0.00000000e+00, 5.20305719e-06, 5.51407325e-05,\n",
       "       2.12137313e-04, 3.49541517e-04, 1.50799006e-03, 2.38153977e-03,\n",
       "       3.57321504e-03, 5.80339081e-03, 2.48788840e-03, 2.21533857e-03,\n",
       "       1.84380581e-03, 1.54699980e-03, 1.46309278e-03, 1.14743621e-03,\n",
       "       1.26205079e-03, 1.46288083e-03, 1.25355718e-03, 1.47029576e-03,\n",
       "       8.63195100e-04, 5.40159769e-04, 3.79123084e-04, 1.43990673e-04,\n",
       "       6.66703495e-05, 8.65649753e-06, 1.36538960e-06, 0.00000000e+00,\n",
       "       0.00000000e+00, 0.00000000e+00, 2.94949988e-06, 2.36449081e-05,\n",
       "       1.50768347e-04, 2.75177229e-04, 8.56119573e-04, 1.58044025e-03,\n",
       "       2.75869937e-03, 4.86702043e-03, 3.07360088e-03, 2.50647687e-03,\n",
       "       1.76808854e-03, 1.62907103e-03, 1.84735062e-03, 1.72832208e-03,\n",
       "       1.13836735e-03, 1.00570517e-03, 9.59165754e-04, 6.26910035e-04,\n",
       "       4.58119016e-04, 2.68374591e-04, 1.88676019e-04, 7.21977657e-05,\n",
       "       2.81693219e-05, 4.40370247e-06, 0.00000000e+00, 0.00000000e+00,\n",
       "       0.00000000e+00, 0.00000000e+00, 4.10391868e-06, 1.63320177e-05,\n",
       "       5.20687737e-05, 1.37327433e-04, 3.11184170e-04, 6.65894736e-04,\n",
       "       1.26852670e-03, 2.23962999e-03, 3.36257089e-03, 5.57543749e-03,\n",
       "       4.58548199e-03, 4.63240503e-03, 3.66224643e-03, 2.35177095e-03,\n",
       "       1.65107658e-03, 1.04482605e-03, 7.07802238e-04, 3.65876969e-04,\n",
       "       2.24978278e-04, 1.57474847e-04, 5.56469300e-05, 3.52828144e-05,\n",
       "       8.43662741e-06, 6.82062796e-06, 4.88615494e-07, 0.00000000e+00,\n",
       "       0.00000000e+00, 0.00000000e+00, 5.00288523e-07, 1.91895895e-05,\n",
       "       3.86298588e-05, 1.14931699e-04, 2.45003593e-04, 3.98609404e-04,\n",
       "       5.95510556e-04, 8.42090329e-04, 1.18071924e-03, 1.26668295e-03,\n",
       "       1.47610171e-03, 1.16400317e-03, 9.65512492e-04, 5.93375541e-04,\n",
       "       5.17980930e-04, 5.50816700e-04, 3.40903704e-04, 2.27811854e-04,\n",
       "       1.90133938e-04, 1.24919872e-04, 3.01003477e-05, 1.69870768e-05,\n",
       "       5.13547911e-06, 3.06420489e-06, 1.84445697e-06, 0.00000000e+00,\n",
       "       0.00000000e+00, 0.00000000e+00, 0.00000000e+00, 1.49911981e-06,\n",
       "       1.71303148e-05, 4.34767318e-05, 1.04918648e-04, 2.59178008e-04,\n",
       "       4.31218874e-04, 7.82523210e-04, 8.79267602e-04, 1.18975296e-03,\n",
       "       9.24189778e-04, 1.56971582e-03, 7.51167649e-04, 5.06669143e-04,\n",
       "       3.32853555e-04, 4.76852569e-04, 3.57140141e-04, 1.37225286e-04,\n",
       "       8.39189034e-05, 6.30766070e-05, 2.52916039e-05, 1.20754443e-05,\n",
       "       1.35735430e-06, 9.96218607e-07, 0.00000000e+00, 0.00000000e+00,\n",
       "       0.00000000e+00, 0.00000000e+00, 0.00000000e+00, 0.00000000e+00,\n",
       "       6.09272888e-06, 1.39954418e-05, 8.50088714e-06, 5.25518636e-05,\n",
       "       5.90145278e-05, 7.73803113e-05, 1.24554814e-04, 1.48961745e-04,\n",
       "       1.62828663e-04, 3.37478370e-04, 1.57153678e-04, 9.29450818e-05,\n",
       "       1.19049900e-04, 1.16920623e-04, 5.18984060e-05, 4.36179380e-05,\n",
       "       1.72159997e-05, 1.23957300e-05, 2.04056875e-06, 5.36950195e-06,\n",
       "       2.64640813e-07, 0.00000000e+00, 0.00000000e+00, 0.00000000e+00,\n",
       "       0.00000000e+00, 0.00000000e+00, 0.00000000e+00, 0.00000000e+00,\n",
       "       0.00000000e+00, 0.00000000e+00, 1.79699976e-06, 4.89805967e-07,\n",
       "       1.37467126e-06, 2.43423599e-06, 4.16395752e-06, 5.10060424e-06,\n",
       "       1.62187968e-06, 2.05515925e-06, 5.31888265e-06, 1.56027401e-06,\n",
       "       1.87582525e-06, 6.24298643e-06, 9.21294697e-07, 6.11244189e-06,\n",
       "       5.03083610e-07, 0.00000000e+00, 5.01098944e-07, 1.56962812e-06,\n",
       "       0.00000000e+00, 0.00000000e+00, 0.00000000e+00, 0.00000000e+00])"
      ]
     },
     "execution_count": 6,
     "metadata": {},
     "output_type": "execute_result"
    }
   ],
   "source": [
    "rf.feature_importances_"
   ]
  },
  {
   "cell_type": "code",
   "execution_count": 7,
   "id": "7eb8186d",
   "metadata": {},
   "outputs": [
    {
     "data": {
      "text/plain": [
       "<AxesSubplot:>"
      ]
     },
     "execution_count": 7,
     "metadata": {},
     "output_type": "execute_result"
    },
    {
     "data": {
      "image/png": "[encoded data removed]",
      "text/plain": [
       "<Figure size 432x288 with 2 Axes>"
      ]
     },
     "metadata": {
      "needs_background": "light"
     },
     "output_type": "display_data"
    }
   ],
   "source": [
    "\n",
    "# It is showing the feature importance of every pixel \n",
    "# black color is not important\n",
    "# Color region is important to predict the numbers.\n",
    "\n",
    "sns.heatmap(rf.feature_importances_.reshape(28,28))\n"
   ]
  },
  {
   "cell_type": "markdown",
   "id": "07786cef",
   "metadata": {},
   "source": [
    "### Check Feature Importance by plotting Decision Trees"
   ]
  },
  {
   "cell_type": "code",
   "execution_count": 8,
   "id": "e17169e4",
   "metadata": {},
   "outputs": [],
   "source": [
    "from sklearn.datasets import make_classification\n",
    "from sklearn.tree import DecisionTreeClassifier\n",
    "from sklearn.tree import plot_tree"
   ]
  },
  {
   "cell_type": "code",
   "execution_count": 21,
   "id": "a714c0f5",
   "metadata": {},
   "outputs": [
    {
     "data": {
      "text/plain": [
       "array([[ 0.96399434, -0.12399406],\n",
       "       [ 1.05699092,  0.69448021],\n",
       "       [-0.55744457,  0.08369352],\n",
       "       [-1.19224399, -1.66447018],\n",
       "       [-0.3874711 ,  1.38366234]])"
      ]
     },
     "execution_count": 21,
     "metadata": {},
     "output_type": "execute_result"
    }
   ],
   "source": [
    "X,y=make_classification(n_samples=5,n_classes=2,\n",
    "                        n_features=2,n_informative=2,n_redundant=0,\n",
    "                        random_state=0)\n",
    "X "
   ]
  },
  {
   "cell_type": "code",
   "execution_count": 22,
   "id": "252d83a6",
   "metadata": {},
   "outputs": [
    {
     "data": {
      "text/plain": [
       "DecisionTreeClassifier()"
      ]
     },
     "execution_count": 22,
     "metadata": {},
     "output_type": "execute_result"
    }
   ],
   "source": [
    "clf=DecisionTreeClassifier()\n",
    "clf.fit(X,y)"
   ]
  },
  {
   "cell_type": "code",
   "execution_count": 23,
   "id": "f6e0d591",
   "metadata": {},
   "outputs": [
    {
     "data": {
      "image/png": "[encoded data removed]",
      "text/plain": [
       "<Figure size 432x288 with 1 Axes>"
      ]
     },
     "metadata": {
      "needs_background": "light"
     },
     "output_type": "display_data"
    }
   ],
   "source": [
    "plot_tree(clf)\n",
    "plt.show()"
   ]
  },
  {
   "cell_type": "code",
   "execution_count": 24,
   "id": "9e3139e5",
   "metadata": {},
   "outputs": [
    {
     "data": {
      "text/plain": [
       "array([0.625, 0.375])"
      ]
     },
     "execution_count": 24,
     "metadata": {},
     "output_type": "execute_result"
    }
   ],
   "source": [
    "clf.feature_importances_\n",
    "\n",
    "# Formula for getting feature importance\n",
    "\n",
    "# For 0 - x/x+y  , For 1 - y/x+y\n",
    "\n",
    "# Calculate the values from tree.\n",
    "# For 1 =  5/5[0.48 -4/58*0.375 -1/5*0] = 0.18 = y\n",
    "# For 0 = 4/5[0.375-0-0]    =  0.30 = x\n",
    "\n",
    "\n",
    "# apply x and y values into main formula.\n",
    "# For 0 = 0.30/0.30+0.18  = 0.625\n",
    "# For 1 = 0.18/0.18+0.30 = 0.375"
   ]
  },
  {
   "cell_type": "markdown",
   "id": "7e9fc61f",
   "metadata": {},
   "source": [
    "### Check Feature Importance by Plotting decision trees using 15 rows"
   ]
  },
  {
   "cell_type": "code",
   "execution_count": 25,
   "id": "218cbb42",
   "metadata": {},
   "outputs": [
    {
     "data": {
      "text/plain": [
       "DecisionTreeClassifier()"
      ]
     },
     "execution_count": 25,
     "metadata": {},
     "output_type": "execute_result"
    }
   ],
   "source": [
    "X,y=make_classification(n_samples=15,n_classes=2,\n",
    "                        n_features=2,n_informative=2,n_redundant=0,\n",
    "                        random_state=0)\n",
    "clf=DecisionTreeClassifier()\n",
    "clf.fit(X,y)"
   ]
  },
  {
   "cell_type": "code",
   "execution_count": 26,
   "id": "69e80a33",
   "metadata": {},
   "outputs": [
    {
     "data": {
      "image/png": "[encoded data removed]",
      "text/plain": [
       "<Figure size 432x288 with 1 Axes>"
      ]
     },
     "metadata": {
      "needs_background": "light"
     },
     "output_type": "display_data"
    }
   ],
   "source": [
    "plot_tree(clf)\n",
    "plt.show()"
   ]
  },
  {
   "cell_type": "code",
   "execution_count": 27,
   "id": "ce79776e",
   "metadata": {},
   "outputs": [
    {
     "data": {
      "text/plain": [
       "array([0.41666667, 0.58333333])"
      ]
     },
     "execution_count": 27,
     "metadata": {},
     "output_type": "execute_result"
    }
   ],
   "source": [
    "# For 1 = 15/15[0.498 - 9/15*0.346-0] = 0.290\n",
    "\n",
    "# For 0 = 9/15[0.346-3/15*0.444-0] = 0.118\n",
    "# For 0 = 3/15[0.444-0] = 0.088\n",
    "\n",
    "# 0 = 0.11+0.08/0.290+0.118+0.088 = 0.41\n",
    "# 1 = 0.290/0.290+0.118+0.088 = 0.58\n",
    "\n",
    "clf.feature_importances_"
   ]
  },
  {
   "cell_type": "markdown",
   "id": "32f709d2",
   "metadata": {},
   "source": [
    "### THE END"
   ]
  }
 ],
 "metadata": {
  "kernelspec": {
   "display_name": "Python 3 (ipykernel)",
   "language": "python",
   "name": "python3"
  },
  "language_info": {
   "codemirror_mode": {
    "name": "ipython",
    "version": 3
   },
   "file_extension": ".py",
   "mimetype": "text/x-python",
   "name": "python",
   "nbconvert_exporter": "python",
   "pygments_lexer": "ipython3",
   "version": "3.9.7"
  }
 },
 "nbformat": 4,
 "nbformat_minor": 5
}
