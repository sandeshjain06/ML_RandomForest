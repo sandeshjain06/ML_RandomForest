{
 "cells": [
  {
   "cell_type": "markdown",
   "id": "08f4000b",
   "metadata": {},
   "source": [
    "### Decision Tree Questions\n",
    "\n",
    "- How to decide which column should be considered as root node\n",
    "\n",
    "- How to select subsequent decision nodes\n",
    "\n",
    "- How to decide splitting criteria in case of numerical columns.\n",
    "\n",
    "### Advantages\n",
    "\n",
    "- Easy to Understand\n",
    "- Minimal Data Preparation is required\n",
    "- The Cost of using the tree for inference is logarithmic in the no of data points used to train the tree.\n",
    "\n",
    "### Disadvantages\n",
    "\n",
    "- Overfitting\n",
    "- Prone to erros for imbalanced datasets.\n",
    "\n",
    "\n",
    "### Entropy  - It is nothing but the measure of disorder.It is measure of purity / impurity.\n",
    "\n",
    "- More knowledge less Entropy\n",
    "\n",
    "- How to calculate Entropy E(s) = -pi log2 pi\n",
    "\n"
   ]
  },
  {
   "cell_type": "markdown",
   "id": "4d33ad16",
   "metadata": {},
   "source": [
    "### Hyperparameters in Decision Tree for Classification Problem \n",
    "\n",
    "- Criterion - gini , entropy\n",
    "\n",
    "- Splitter -  best , random - to reduce the overfitting problem\n",
    "    - Best = It will consider all the values of the features and highest will be selected.\n",
    "    - Random = Randomily any features will be selected for splitting.\n",
    "\n",
    "- Max Depth - {1,2,..n}\n",
    "\n",
    "- Min Samples Split - Suppose in Dataset features = 100 , here we can decide the depth , suppose we select value = 50 , after certain splitting if any node is having values less than 50 , then at that node furthur splitting will not happen.\n",
    "\n",
    "- Min Samples Leaf - Suppose we have assign value = 20 , so if after splitting one particular node , we know we will get value less than 20 , so we will not furthur split the nodes.\n",
    "\n",
    "- Max Features - Used to add some randomness , it will randomly select the features if max-features parameter is given . If in dataset there are 100 features available , then we can decide that every node it should consider suppose 50 features only for splitting , any feature can be considered randomly.\n",
    "\n",
    "- Max Leaf Nodes - Control the no of leaf nodes to be created at the end.\n",
    "\n",
    "\n",
    "\n",
    "### Hyperparameters in Decision Tree for Regression Problem \n",
    "\n",
    "\n",
    "- Criterion - mse , mae , friedman_mse\n",
    "\n",
    "- Splitter -  best , random - To Reduce the Overfitting Problem\n",
    "\n",
    "- Max Depth - {1,2,..n} - Determing the depth of the tree.\n",
    "\n",
    "- Min Samples Split - Suppose in Dataset features = 100 , here we can decide the depth , suppose we select value = 50 , after certain splitting if any node is having values less than 50 , then at that node furthur splitting will not happen.\n",
    "\n",
    "- Min Samples Leaf - Suppose we have assign value = 20 , so if after splitting one particular node , we know we will get value less than 20 , so we will not furthur split the nodes.\n",
    "\n",
    "- Max Features - Used to add some randomness , it will randomly select the features if max-features parameter is given . If in dataset there are 100 features available , then we can decide that every node it should consider suppose 50 features only for splitting , any feature can be considered randomly.\n",
    "\n",
    "- Max Leaf Nodes - Control the no of leaf nodes to be created at the end.\n",
    "\n"
   ]
  },
  {
   "cell_type": "code",
   "execution_count": 1,
   "id": "d4af87db",
   "metadata": {},
   "outputs": [],
   "source": [
    "import pandas as  pd \n",
    "import numpy as np\n",
    "import matplotlib.pyplot as plt \n",
    "import seaborn as sns \n",
    "from sklearn.tree import DecisionTreeClassifier,DecisionTreeRegressor\n",
    "from sklearn.model_selection import train_test_split,GridSearchCV\n",
    "from sklearn.metrics import r2_score\n",
    "from sklearn.datasets import load_boston\n",
    "import warnings\n",
    "warnings.filterwarnings('ignore')"
   ]
  },
  {
   "cell_type": "code",
   "execution_count": 2,
   "id": "fb6db811",
   "metadata": {},
   "outputs": [],
   "source": [
    "boston=load_boston()\n",
    "df=pd.DataFrame(boston.data)"
   ]
  },
  {
   "cell_type": "code",
   "execution_count": 3,
   "id": "24e79de9",
   "metadata": {},
   "outputs": [],
   "source": [
    "df.columns=boston.feature_names\n",
    "df['MEDV']=boston.target"
   ]
  },
  {
   "cell_type": "code",
   "execution_count": 4,
   "id": "73e0583d",
   "metadata": {},
   "outputs": [
    {
     "data": {
      "text/html": [
       "<div>\n",
       "<style scoped>\n",
       "    .dataframe tbody tr th:only-of-type {\n",
       "        vertical-align: middle;\n",
       "    }\n",
       "\n",
       "    .dataframe tbody tr th {\n",
       "        vertical-align: top;\n",
       "    }\n",
       "\n",
       "    .dataframe thead th {\n",
       "        text-align: right;\n",
       "    }\n",
       "</style>\n",
       "<table border=\"1\" class=\"dataframe\">\n",
       "  <thead>\n",
       "    <tr style=\"text-align: right;\">\n",
       "      <th></th>\n",
       "      <th>CRIM</th>\n",
       "      <th>ZN</th>\n",
       "      <th>INDUS</th>\n",
       "      <th>CHAS</th>\n",
       "      <th>NOX</th>\n",
       "      <th>RM</th>\n",
       "      <th>AGE</th>\n",
       "      <th>DIS</th>\n",
       "      <th>RAD</th>\n",
       "      <th>TAX</th>\n",
       "      <th>PTRATIO</th>\n",
       "      <th>B</th>\n",
       "      <th>LSTAT</th>\n",
       "      <th>MEDV</th>\n",
       "    </tr>\n",
       "  </thead>\n",
       "  <tbody>\n",
       "    <tr>\n",
       "      <th>0</th>\n",
       "      <td>0.00632</td>\n",
       "      <td>18.0</td>\n",
       "      <td>2.31</td>\n",
       "      <td>0.0</td>\n",
       "      <td>0.538</td>\n",
       "      <td>6.575</td>\n",
       "      <td>65.2</td>\n",
       "      <td>4.0900</td>\n",
       "      <td>1.0</td>\n",
       "      <td>296.0</td>\n",
       "      <td>15.3</td>\n",
       "      <td>396.90</td>\n",
       "      <td>4.98</td>\n",
       "      <td>24.0</td>\n",
       "    </tr>\n",
       "    <tr>\n",
       "      <th>1</th>\n",
       "      <td>0.02731</td>\n",
       "      <td>0.0</td>\n",
       "      <td>7.07</td>\n",
       "      <td>0.0</td>\n",
       "      <td>0.469</td>\n",
       "      <td>6.421</td>\n",
       "      <td>78.9</td>\n",
       "      <td>4.9671</td>\n",
       "      <td>2.0</td>\n",
       "      <td>242.0</td>\n",
       "      <td>17.8</td>\n",
       "      <td>396.90</td>\n",
       "      <td>9.14</td>\n",
       "      <td>21.6</td>\n",
       "    </tr>\n",
       "    <tr>\n",
       "      <th>2</th>\n",
       "      <td>0.02729</td>\n",
       "      <td>0.0</td>\n",
       "      <td>7.07</td>\n",
       "      <td>0.0</td>\n",
       "      <td>0.469</td>\n",
       "      <td>7.185</td>\n",
       "      <td>61.1</td>\n",
       "      <td>4.9671</td>\n",
       "      <td>2.0</td>\n",
       "      <td>242.0</td>\n",
       "      <td>17.8</td>\n",
       "      <td>392.83</td>\n",
       "      <td>4.03</td>\n",
       "      <td>34.7</td>\n",
       "    </tr>\n",
       "    <tr>\n",
       "      <th>3</th>\n",
       "      <td>0.03237</td>\n",
       "      <td>0.0</td>\n",
       "      <td>2.18</td>\n",
       "      <td>0.0</td>\n",
       "      <td>0.458</td>\n",
       "      <td>6.998</td>\n",
       "      <td>45.8</td>\n",
       "      <td>6.0622</td>\n",
       "      <td>3.0</td>\n",
       "      <td>222.0</td>\n",
       "      <td>18.7</td>\n",
       "      <td>394.63</td>\n",
       "      <td>2.94</td>\n",
       "      <td>33.4</td>\n",
       "    </tr>\n",
       "    <tr>\n",
       "      <th>4</th>\n",
       "      <td>0.06905</td>\n",
       "      <td>0.0</td>\n",
       "      <td>2.18</td>\n",
       "      <td>0.0</td>\n",
       "      <td>0.458</td>\n",
       "      <td>7.147</td>\n",
       "      <td>54.2</td>\n",
       "      <td>6.0622</td>\n",
       "      <td>3.0</td>\n",
       "      <td>222.0</td>\n",
       "      <td>18.7</td>\n",
       "      <td>396.90</td>\n",
       "      <td>5.33</td>\n",
       "      <td>36.2</td>\n",
       "    </tr>\n",
       "  </tbody>\n",
       "</table>\n",
       "</div>"
      ],
      "text/plain": [
       "      CRIM    ZN  INDUS  CHAS    NOX     RM   AGE     DIS  RAD    TAX  \\\n",
       "0  0.00632  18.0   2.31   0.0  0.538  6.575  65.2  4.0900  1.0  296.0   \n",
       "1  0.02731   0.0   7.07   0.0  0.469  6.421  78.9  4.9671  2.0  242.0   \n",
       "2  0.02729   0.0   7.07   0.0  0.469  7.185  61.1  4.9671  2.0  242.0   \n",
       "3  0.03237   0.0   2.18   0.0  0.458  6.998  45.8  6.0622  3.0  222.0   \n",
       "4  0.06905   0.0   2.18   0.0  0.458  7.147  54.2  6.0622  3.0  222.0   \n",
       "\n",
       "   PTRATIO       B  LSTAT  MEDV  \n",
       "0     15.3  396.90   4.98  24.0  \n",
       "1     17.8  396.90   9.14  21.6  \n",
       "2     17.8  392.83   4.03  34.7  \n",
       "3     18.7  394.63   2.94  33.4  \n",
       "4     18.7  396.90   5.33  36.2  "
      ]
     },
     "execution_count": 4,
     "metadata": {},
     "output_type": "execute_result"
    }
   ],
   "source": [
    "df.head()"
   ]
  },
  {
   "cell_type": "code",
   "execution_count": 5,
   "id": "f190d9ab",
   "metadata": {},
   "outputs": [
    {
     "data": {
      "text/plain": [
       "(506, 14)"
      ]
     },
     "execution_count": 5,
     "metadata": {},
     "output_type": "execute_result"
    }
   ],
   "source": [
    "df.shape"
   ]
  },
  {
   "cell_type": "code",
   "execution_count": 6,
   "id": "35ccc36e",
   "metadata": {},
   "outputs": [],
   "source": [
    "x=df.iloc[:,0:13]\n",
    "y=df.iloc[:,13]"
   ]
  },
  {
   "cell_type": "code",
   "execution_count": 7,
   "id": "d90805e0",
   "metadata": {},
   "outputs": [
    {
     "name": "stdout",
     "output_type": "stream",
     "text": [
      "0.6698671590958322\n"
     ]
    }
   ],
   "source": [
    "X_train,X_test,y_train,y_test=train_test_split(x,y,train_size=0.20,random_state=42)\n",
    "dc = DecisionTreeRegressor(criterion='mse',max_depth=5)\n",
    "dc.fit(X_train,y_train)\n",
    "y_predict=dc.predict(X_test)\n",
    "print(r2_score(y_test,y_predict))"
   ]
  },
  {
   "cell_type": "code",
   "execution_count": 8,
   "id": "3cf0a327",
   "metadata": {},
   "outputs": [
    {
     "data": {
      "text/plain": [
       "0      24.0\n",
       "1      21.6\n",
       "2      34.7\n",
       "3      33.4\n",
       "4      36.2\n",
       "       ... \n",
       "501    22.4\n",
       "502    20.6\n",
       "503    23.9\n",
       "504    22.0\n",
       "505    11.9\n",
       "Name: MEDV, Length: 506, dtype: float64"
      ]
     },
     "execution_count": 8,
     "metadata": {},
     "output_type": "execute_result"
    }
   ],
   "source": [
    "y"
   ]
  },
  {
   "cell_type": "code",
   "execution_count": 9,
   "id": "9280fda9",
   "metadata": {},
   "outputs": [
    {
     "data": {
      "text/plain": [
       "-0.2653036992459354"
      ]
     },
     "execution_count": 9,
     "metadata": {},
     "output_type": "execute_result"
    }
   ],
   "source": [
    "from sklearn.model_selection import cross_val_score\n",
    "\n",
    "np.mean(cross_val_score(DecisionTreeRegressor(),x,y,cv=10,scoring='r2'))"
   ]
  },
  {
   "cell_type": "markdown",
   "id": "96338470",
   "metadata": {},
   "source": [
    "### Hyperparameter Tuning"
   ]
  },
  {
   "cell_type": "code",
   "execution_count": 10,
   "id": "57d0e914",
   "metadata": {},
   "outputs": [],
   "source": [
    "param_grid={\n",
    "    'max_depth':[2,4,8,10],\n",
    "    'criterion':['mse','mae'],\n",
    "    'max_features':[0.25,0.5,1.0],\n",
    "    'min_samples_split':[0.25,0.5,1.0]\n",
    "}"
   ]
  },
  {
   "cell_type": "code",
   "execution_count": 11,
   "id": "9bca8dec",
   "metadata": {},
   "outputs": [],
   "source": [
    "reg=GridSearchCV(DecisionTreeRegressor(),param_grid=param_grid)"
   ]
  },
  {
   "cell_type": "code",
   "execution_count": 12,
   "id": "65e42e66",
   "metadata": {},
   "outputs": [
    {
     "data": {
      "text/plain": [
       "GridSearchCV(estimator=DecisionTreeRegressor(),\n",
       "             param_grid={'criterion': ['mse', 'mae'],\n",
       "                         'max_depth': [2, 4, 8, 10],\n",
       "                         'max_features': [0.25, 0.5, 1.0],\n",
       "                         'min_samples_split': [0.25, 0.5, 1.0]})"
      ]
     },
     "execution_count": 12,
     "metadata": {},
     "output_type": "execute_result"
    }
   ],
   "source": [
    "reg.fit(X_train,y_train)"
   ]
  },
  {
   "cell_type": "code",
   "execution_count": 13,
   "id": "b5fe56e4",
   "metadata": {},
   "outputs": [
    {
     "data": {
      "text/plain": [
       "0.5595986040026222"
      ]
     },
     "execution_count": 13,
     "metadata": {},
     "output_type": "execute_result"
    }
   ],
   "source": [
    "reg.best_score_"
   ]
  },
  {
   "cell_type": "code",
   "execution_count": 14,
   "id": "fbc10744",
   "metadata": {},
   "outputs": [
    {
     "data": {
      "text/plain": [
       "{'criterion': 'mae',\n",
       " 'max_depth': 8,\n",
       " 'max_features': 0.5,\n",
       " 'min_samples_split': 0.5}"
      ]
     },
     "execution_count": 14,
     "metadata": {},
     "output_type": "execute_result"
    }
   ],
   "source": [
    "reg.best_params_"
   ]
  },
  {
   "cell_type": "markdown",
   "id": "14479119",
   "metadata": {},
   "source": [
    "### Feature Importance "
   ]
  },
  {
   "cell_type": "code",
   "execution_count": 15,
   "id": "c55bee0c",
   "metadata": {},
   "outputs": [
    {
     "name": "stdout",
     "output_type": "stream",
     "text": [
      "RM 0.6069934816261018\n",
      "LSTAT 0.1851833976935949\n",
      "DIS 0.1170641067208418\n",
      "CRIM 0.043721748174983074\n",
      "NOX 0.023552535500035256\n",
      "AGE 0.00843094893321702\n",
      "PTRATIO 0.008351805678814913\n",
      "B 0.003991419766046701\n",
      "ZN 0.0027105559063645293\n",
      "TAX 0.0\n",
      "RAD 0.0\n",
      "INDUS 0.0\n",
      "CHAS 0.0\n"
     ]
    }
   ],
   "source": [
    "for importance,name in sorted(zip(dc.feature_importances_,X_train.columns),\n",
    "                             reverse=True):\n",
    "    print(name,importance)\n",
    "    \n",
    "# It will give all the important features."
   ]
  },
  {
   "cell_type": "markdown",
   "id": "f353bf69",
   "metadata": {},
   "source": [
    "### THE END "
   ]
  }
 ],
 "metadata": {
  "kernelspec": {
   "display_name": "Python 3 (ipykernel)",
   "language": "python",
   "name": "python3"
  },
  "language_info": {
   "codemirror_mode": {
    "name": "ipython",
    "version": 3
   },
   "file_extension": ".py",
   "mimetype": "text/x-python",
   "name": "python",
   "nbconvert_exporter": "python",
   "pygments_lexer": "ipython3",
   "version": "3.9.7"
  }
 },
 "nbformat": 4,
 "nbformat_minor": 5
}
